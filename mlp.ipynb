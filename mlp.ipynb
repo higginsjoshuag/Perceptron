{
 "cells": [
  {
   "cell_type": "markdown",
   "metadata": {
    "id": "DVL7_bgmIAPR"
   },
   "source": [
    "# Mutli-layered Perceptron\n",
    "\n",
    "\n",
    "\n"
   ]
  },
  {
   "cell_type": "code",
   "execution_count": 1,
   "metadata": {
    "id": "6ZbYjZZZ_yLV"
   },
   "outputs": [],
   "source": [
    "from sklearn.base import BaseEstimator, ClassifierMixin\n",
    "from sklearn.linear_model import Perceptron\n",
    "from sklearn.model_selection import train_test_split\n",
    "import numpy as np\n",
    "import matplotlib.pyplot as plt\n",
    "from scipy.io import arff\n",
    "import pandas as pd\n",
    "import sklearn\n",
    "import dataframe_image as dfi"
   ]
  },
  {
   "cell_type": "code",
   "execution_count": 2,
   "metadata": {
    "id": "_a2KSZ_7AN0G"
   },
   "outputs": [],
   "source": [
    "class PerceptronClassifier(BaseEstimator,ClassifierMixin):\n",
    "\n",
    "    def __init__(self, lr=.1, shuffle=True):\n",
    "        self.lr = lr\n",
    "        self.shuffle = shuffle\n",
    "\n",
    "    def fit(self, X, y, initial_weights=None):\n",
    "        self.weights = self.initialize_weights(X) if not initial_weights else initial_weights\n",
    "        num_epochs = 10\n",
    "        for j in range(num_epochs):\n",
    "            threshold = 0\n",
    "            for i in range(len(X)):\n",
    "                z = 0\n",
    "                net = np.sum(X[i] * self.weights)\n",
    "                if net >= threshold:\n",
    "                    z = 1\n",
    "                delta_w = (self.lr * (y[i] - z)) * X[i]\n",
    "                self.weights = self.weights + delta_w\n",
    "            if self.shuffle == True:\n",
    "                X, y = self._shuffle_data(X,y)\n",
    "        return self\n",
    "    \n",
    "    def fit_till_converge(self, X, y, initial_weights = None):\n",
    "        num_epochs = 0\n",
    "        self.weights = self.initialize_weights(X) if not initial_weights else initial_weights\n",
    "        threshold = 0\n",
    "        misclass_acc_list = [1000]\n",
    "        non_change_count = 0\n",
    "        crazy_big_number = 10000\n",
    "        \n",
    "        train_acc = []\n",
    "        test_acc = []\n",
    "        \n",
    "        for j in range(crazy_big_number):\n",
    "            if non_change_count == 2:\n",
    "                break\n",
    "            for i in range(len(X)):\n",
    "                z = 0\n",
    "                net = np.sum(X[i] * self.weights)\n",
    "                if net >= threshold:\n",
    "                    z = 1\n",
    "                delta_w = (self.lr * (y[i] - z)) * X[i]\n",
    "                self.weights = self.weights + delta_w\n",
    "                x_train, y_train, x_test, y_test = self.split_data(X,y)\n",
    "                \n",
    "                if self.shuffle == True:\n",
    "                    X, y = self._shuffle_data(X,y)\n",
    "            train_acc.append(self.score(x_train, y_train))\n",
    "            test_acc.append(self.score(x_test, y_test))\n",
    "            num_epochs = num_epochs + 1\n",
    "            acc = self.score(X,y)\n",
    "            misclass_acc = 1 - acc\n",
    "            if np.abs(misclass_acc - misclass_acc_list[-1]) < .01:\n",
    "                non_change_count = non_change_count + 1\n",
    "            else:\n",
    "                non_change_count = 0\n",
    "            misclass_acc_list.append(misclass_acc)\n",
    "        \n",
    "        return train_acc, test_acc, num_epochs\n",
    "        \n",
    "    def predict(self, X):\n",
    "        threshold = 0\n",
    "        predict = []\n",
    "        for i in range(len(X)):\n",
    "            z = 0\n",
    "            net = np.sum(X[i] * self.weights)\n",
    "            if net >= threshold:\n",
    "                z = 1\n",
    "            predict.append(z)\n",
    "        return np.array(predict)\n",
    "\n",
    "    def initialize_weights(self, x):\n",
    "        return np.zeros(len(x[0]))\n",
    "\n",
    "    def score(self, X, y):\n",
    "        score = self.predict(X)\n",
    "        num_correct = np.sum(score == y)\n",
    "        return np.sum(score == y) / len(y)\n",
    "\n",
    "    def _shuffle_data(self, X, y):\n",
    "        y = np.reshape(y,(len(y),1))\n",
    "        all_data = np.concatenate((X,y), axis=1)\n",
    "        np.random.shuffle(all_data)\n",
    "        new_x = all_data[:,0:-1]\n",
    "        new_y = all_data[:,-1]\n",
    "        return new_x, new_y\n",
    "\n",
    "    def get_weights(self):\n",
    "        return self.weights\n",
    "    \n",
    "    def split_data(self, X, y, test_perc = .7):\n",
    "        x,y = self._shuffle_data(X,y)\n",
    "        y = np.reshape(y,(len(y),1))\n",
    "        all_data = np.concatenate((x,y), axis = 1)\n",
    "        all_data_len = len(all_data)\n",
    "        rows_train = int(all_data_len * test_perc)\n",
    "        \n",
    "        all_data_train = all_data[0:rows_train]\n",
    "        all_data_test = all_data[rows_train:len(all_data)]\n",
    "        \n",
    "        x_train = all_data_train[:,0:-1]\n",
    "        y_train = all_data_train[:,-1]\n",
    "        \n",
    "        x_test = all_data_test[:,0:-1]\n",
    "        y_test = all_data_test[:,-1]\n",
    "        \n",
    "        return x_train, y_train, x_test, y_test"
   ]
  },
  {
   "cell_type": "code",
   "execution_count": 4,
   "metadata": {
    "id": "KgAyy82gixIF"
   },
   "outputs": [
    {
     "name": "stdout",
     "output_type": "stream",
     "text": [
      "Accuracy:  0.875\n",
      "Weights:  [-0.2   0.17 -0.1 ]\n"
     ]
    }
   ],
   "source": [
    "# Load debug data\n",
    "debug = pd.DataFrame(arff.loadarff('datasets/linsep2nonorigin.arff')[0])\n",
    "\n",
    "# decode debug['class'] to remove the 'b' from the results.\n",
    "debug['class'] = debug['class'].str.decode('utf-8')\n",
    "\n",
    "# change debug['class'] series dtype from 'object' to 'int.'\n",
    "debug['class'] = pd.to_numeric(debug['class'])\n",
    "\n",
    "debug_x = debug.iloc[:,:-1]\n",
    "debug_x['bias'] = np.ones(len(debug_x))\n",
    "\n",
    "debug_x = np.array(debug_x)\n",
    "debug_y = np.array(debug.iloc[:,-1])\n",
    "\n",
    "# Train on debug data\n",
    "# define the debug perceptron\n",
    "debug_percept = PerceptronClassifier(shuffle = False)\n",
    "debug_percept.fit(debug_x,debug_y)\n",
    "\n",
    "# Print accuracy and weights\n",
    "print('Accuracy: ',debug_percept.score(debug_x,debug_y))\n",
    "print('Weights: ',debug_percept.get_weights())"
   ]
  },
  {
   "cell_type": "code",
   "execution_count": 6,
   "metadata": {
    "id": "2yAxA78QjDh2"
   },
   "outputs": [
    {
     "name": "stdout",
     "output_type": "stream",
     "text": [
      "Accuracy:  0.9854227405247813\n",
      "Weights:  [-6.94458797 -4.477747   -4.5347011  -0.8130084   6.5       ]\n"
     ]
    }
   ],
   "source": [
    "# Load evaluation data\n",
    "eval = pd.DataFrame(arff.loadarff('datasets/bank.arff')[0])\n",
    "eval['class'] = eval['class'].str.decode('utf-8')\n",
    "eval['class'] = pd.to_numeric(eval['class'])\n",
    "\n",
    "eval_x = eval.iloc[:,:-1]\n",
    "eval_x['bias'] = np.ones(len(eval_x))\n",
    "\n",
    "eval_x = np.array(eval_x)\n",
    "eval_y = np.array(eval.iloc[:,-1])\n",
    "\n",
    "\n",
    "# Train on evaluation data\n",
    "eval_percept = PerceptronClassifier(shuffle = True)\n",
    "eval_percept.fit(eval_x, eval_y)\n",
    "\n",
    "\n",
    "# Print accuracy and weights\n",
    "print('Accuracy: ',eval_percept.score(eval_x,eval_y))\n",
    "print('Weights: ',eval_percept.get_weights())"
   ]
  },
  {
   "cell_type": "code",
   "execution_count": 8,
   "metadata": {
    "id": "4SSoasDQSKXb"
   },
   "outputs": [],
   "source": [
    "lin_sep = pd.read_csv(\"datasets/lin_sep.csv\")\n",
    "non_lin_sep = pd.read_csv(\"datasets/non_lin_sep.csv\")"
   ]
  },
  {
   "cell_type": "markdown",
   "metadata": {},
   "source": [
    "#### Train Linearly Separable"
   ]
  },
  {
   "cell_type": "code",
   "execution_count": 9,
   "metadata": {
    "id": "KBGUn43ASiXW"
   },
   "outputs": [
    {
     "name": "stdout",
     "output_type": "stream",
     "text": [
      "Accuracy for Lin Sep:  1.0\n",
      "Weights for Lin Sep:  [-0.1   0.14  0.  ]\n"
     ]
    }
   ],
   "source": [
    "lin_sep_x = lin_sep.iloc[:,:-1]\n",
    "lin_sep_x['bias'] = np.ones(len(lin_sep_x))\n",
    "\n",
    "lin_sep_x = np.array(lin_sep_x)\n",
    "lin_sep_y = np.array(lin_sep.iloc[:,-1])\n",
    "\n",
    "lin_sep_percept = PerceptronClassifier(shuffle = True)\n",
    "lin_sep_percept.fit(lin_sep_x, lin_sep_y)\n",
    "print('Accuracy for Lin Sep: ', lin_sep_percept.score(lin_sep_x, lin_sep_y))\n",
    "print('Weights for Lin Sep: ', lin_sep_percept.get_weights())"
   ]
  },
  {
   "cell_type": "markdown",
   "metadata": {},
   "source": [
    "#### Train Non-Linearly Separable"
   ]
  },
  {
   "cell_type": "code",
   "execution_count": 10,
   "metadata": {},
   "outputs": [
    {
     "name": "stdout",
     "output_type": "stream",
     "text": [
      "Accuracy for Non Lin Sep:  0.5\n",
      "Weights for Non Lin Sep:  [-0.07 -0.03 -0.1 ]\n"
     ]
    }
   ],
   "source": [
    "non_lin_sep_x = non_lin_sep.iloc[:,:-1]\n",
    "non_lin_sep_x['bias'] = np.ones(len(non_lin_sep_x))\n",
    "\n",
    "non_lin_sep_x = np.array(non_lin_sep_x)\n",
    "non_lin_sep_y = np.array(non_lin_sep.iloc[:,-1])\n",
    "\n",
    "non_lin_sep_percept = PerceptronClassifier(shuffle = True)\n",
    "non_lin_sep_percept.fit(non_lin_sep_x, non_lin_sep_y)\n",
    "print('Accuracy for Non Lin Sep: ', non_lin_sep_percept.score(non_lin_sep_x, non_lin_sep_y))\n",
    "print('Weights for Non Lin Sep: ', non_lin_sep_percept.get_weights())"
   ]
  },
  {
   "cell_type": "code",
   "execution_count": 11,
   "metadata": {
    "id": "ZCPFUAGTS2sX"
   },
   "outputs": [
    {
     "data": {
      "image/png": "[encoded data removed]",
      "text/plain": [
       "<Figure size 432x288 with 1 Axes>"
      ]
     },
     "metadata": {
      "needs_background": "light"
     },
     "output_type": "display_data"
    }
   ],
   "source": [
    "#Linearly Separable\n",
    "\n",
    "fig, ax = plt.subplots()\n",
    "\n",
    "colors = ('green', 'blue')\n",
    "for n_class in range(2):\n",
    "    ax.scatter(lin_sep[lin_sep['class'] == n_class].iloc[:,0],\n",
    "               lin_sep[lin_sep['class'] == n_class].iloc[:,1],\n",
    "               c=colors[n_class],\n",
    "               s = 40, \n",
    "               label = str(n_class))\n",
    "    \n",
    "weights = lin_sep_percept.get_weights()\n",
    "\n",
    "x_min = np.min(lin_sep_x[:,0])\n",
    "x_max = np.max(lin_sep_x[:,0])\n",
    "\n",
    "X = np.arange(x_min, x_max,.01)\n",
    "m = -weights[0] / weights[1]\n",
    "c = -weights[2] / weights[1]\n",
    "ax.plot(X, m * X + c )\n",
    "\n",
    "plt.title(\"Figure 3.1 Linearly Separable Data\")\n",
    "plt.xlabel(\"a1\")\n",
    "plt.ylabel(\"a2\")\n",
    "plt.legend()\n",
    "plt.plot()\n",
    "# plt.savefig('lin_sep_data.jpg')\n",
    "plt.show()"
   ]
  },
  {
   "cell_type": "code",
   "execution_count": 12,
   "metadata": {},
   "outputs": [
    {
     "data": {
      "image/png": "[encoded data removed]",
      "text/plain": [
       "<Figure size 432x288 with 1 Axes>"
      ]
     },
     "metadata": {
      "needs_background": "light"
     },
     "output_type": "display_data"
    }
   ],
   "source": [
    "#Non-Linearly Separable\n",
    "\n",
    "fig, ax = plt.subplots()\n",
    "\n",
    "colors = ('green', 'blue')\n",
    "for n_class in range(2):\n",
    "    ax.scatter(non_lin_sep[non_lin_sep['class'] == n_class].iloc[:,0],\n",
    "               non_lin_sep[non_lin_sep['class'] == n_class].iloc[:,1],\n",
    "               c=colors[n_class],\n",
    "               s = 40, \n",
    "               label = str(n_class))\n",
    "    \n",
    "weights = non_lin_sep_percept.get_weights()\n",
    "\n",
    "x_min = np.min(non_lin_sep_x[:,0])\n",
    "x_max = np.max(non_lin_sep_x[:,0])\n",
    "\n",
    "X = np.arange(x_min, x_max,.01)\n",
    "m = -weights[0] / weights[1]\n",
    "b = -weights[2] / weights[1]\n",
    "ax.plot(X, m * X + b )\n",
    "plt.title(\"Figure 3.2 Non-Linearly Separable Data\")\n",
    "plt.xlabel(\"a1\")\n",
    "plt.ylabel(\"a2\")\n",
    "plt.legend()\n",
    "plt.plot()\n",
    "# plt.savefig('non_lin_sep_data.jpg')\n",
    "plt.show()"
   ]
  },
  {
   "cell_type": "markdown",
   "metadata": {},
   "source": [
    "### Voting Dataset"
   ]
  },
  {
   "cell_type": "code",
   "execution_count": 15,
   "metadata": {
    "id": "Romyl4G8Trki"
   },
   "outputs": [],
   "source": [
    "vote = pd.DataFrame(arff.loadarff('datasets/voting-dataset.arff')[0])\n",
    "vote = vote.apply(lambda x: x.str.decode('utf8'))\n",
    "\n",
    "vote['Class'] = np.where(vote['Class'] == 'democrat', 1, 0)\n",
    "vote = vote.replace(to_replace = ['y','n'],value = ['1','0'])\n",
    "vote = vote.astype('float')\n",
    "\n",
    "vote_x = vote.iloc[:,:-1]\n",
    "vote_x['bias'] = np.ones(len(vote_x))\n",
    "\n",
    "vote_x = np.array(vote_x)\n",
    "vote_y = np.array(vote.iloc[:,-1])\n",
    "\n",
    "num_trials = 5\n",
    "\n",
    "train_acc_table = []\n",
    "test_acc_table = []\n",
    "\n",
    "for i in range(num_trials):\n",
    "    vote_percept = PerceptronClassifier()\n",
    "    train_acc, test_acc, num_epochs = vote_percept.fit_till_converge(vote_x, vote_y)\n",
    "    train_acc_table.append(train_acc)\n",
    "    test_acc_table.append(test_acc)"
   ]
  },
  {
   "cell_type": "code",
   "execution_count": 17,
   "metadata": {},
   "outputs": [
    {
     "data": {
      "text/html": [
       "<div>\n",
       "<style scoped>\n",
       "    .dataframe tbody tr th:only-of-type {\n",
       "        vertical-align: middle;\n",
       "    }\n",
       "\n",
       "    .dataframe tbody tr th {\n",
       "        vertical-align: top;\n",
       "    }\n",
       "\n",
       "    .dataframe thead th {\n",
       "        text-align: right;\n",
       "    }\n",
       "</style>\n",
       "<table border=\"1\" class=\"dataframe\">\n",
       "  <thead>\n",
       "    <tr style=\"text-align: right;\">\n",
       "      <th></th>\n",
       "      <th>train_acc</th>\n",
       "      <th>test_acc</th>\n",
       "      <th>num_epochs</th>\n",
       "    </tr>\n",
       "  </thead>\n",
       "  <tbody>\n",
       "    <tr>\n",
       "      <th>0</th>\n",
       "      <td>0.932919</td>\n",
       "      <td>0.945324</td>\n",
       "      <td>1.0</td>\n",
       "    </tr>\n",
       "    <tr>\n",
       "      <th>1</th>\n",
       "      <td>0.938509</td>\n",
       "      <td>0.942446</td>\n",
       "      <td>2.0</td>\n",
       "    </tr>\n",
       "    <tr>\n",
       "      <th>2</th>\n",
       "      <td>0.945342</td>\n",
       "      <td>0.951079</td>\n",
       "      <td>3.0</td>\n",
       "    </tr>\n",
       "    <tr>\n",
       "      <th>3</th>\n",
       "      <td>0.946429</td>\n",
       "      <td>0.937050</td>\n",
       "      <td>4.0</td>\n",
       "    </tr>\n",
       "    <tr>\n",
       "      <th>4</th>\n",
       "      <td>0.931677</td>\n",
       "      <td>0.935252</td>\n",
       "      <td>5.0</td>\n",
       "    </tr>\n",
       "    <tr>\n",
       "      <th>5</th>\n",
       "      <td>0.942029</td>\n",
       "      <td>0.911271</td>\n",
       "      <td>6.0</td>\n",
       "    </tr>\n",
       "    <tr>\n",
       "      <th>6</th>\n",
       "      <td>0.937888</td>\n",
       "      <td>0.956835</td>\n",
       "      <td>7.0</td>\n",
       "    </tr>\n",
       "    <tr>\n",
       "      <th>7</th>\n",
       "      <td>0.970497</td>\n",
       "      <td>0.964029</td>\n",
       "      <td>8.0</td>\n",
       "    </tr>\n",
       "    <tr>\n",
       "      <th>8</th>\n",
       "      <td>0.961180</td>\n",
       "      <td>0.985612</td>\n",
       "      <td>9.0</td>\n",
       "    </tr>\n",
       "    <tr>\n",
       "      <th>9</th>\n",
       "      <td>0.947205</td>\n",
       "      <td>0.949640</td>\n",
       "      <td>10.0</td>\n",
       "    </tr>\n",
       "    <tr>\n",
       "      <th>10</th>\n",
       "      <td>0.944099</td>\n",
       "      <td>0.978417</td>\n",
       "      <td>11.0</td>\n",
       "    </tr>\n",
       "    <tr>\n",
       "      <th>11</th>\n",
       "      <td>0.956522</td>\n",
       "      <td>0.971223</td>\n",
       "      <td>12.0</td>\n",
       "    </tr>\n",
       "    <tr>\n",
       "      <th>Average</th>\n",
       "      <td>0.946191</td>\n",
       "      <td>0.952348</td>\n",
       "      <td>6.5</td>\n",
       "    </tr>\n",
       "  </tbody>\n",
       "</table>\n",
       "</div>"
      ],
      "text/plain": [
       "         train_acc  test_acc  num_epochs\n",
       "0         0.932919  0.945324         1.0\n",
       "1         0.938509  0.942446         2.0\n",
       "2         0.945342  0.951079         3.0\n",
       "3         0.946429  0.937050         4.0\n",
       "4         0.931677  0.935252         5.0\n",
       "5         0.942029  0.911271         6.0\n",
       "6         0.937888  0.956835         7.0\n",
       "7         0.970497  0.964029         8.0\n",
       "8         0.961180  0.985612         9.0\n",
       "9         0.947205  0.949640        10.0\n",
       "10        0.944099  0.978417        11.0\n",
       "11        0.956522  0.971223        12.0\n",
       "Average   0.946191  0.952348         6.5"
      ]
     },
     "execution_count": 17,
     "metadata": {},
     "output_type": "execute_result"
    }
   ],
   "source": [
    "train_acc_table = pd.DataFrame(train_acc_table)\n",
    "test_acc_table = pd.DataFrame(test_acc_table)\n",
    "\n",
    "train_acc_means = train_acc_table.mean('index').tolist()\n",
    "test_acc_means = test_acc_table.mean('index').tolist()\n",
    "\n",
    "epoch_nums = list(range(len(train_acc_means)))\n",
    "new_list = [x+1 for x in epoch_nums]\n",
    "\n",
    "table = pd.DataFrame(\n",
    "    {'train_acc': train_acc_means,\n",
    "     'test_acc': test_acc_means,\n",
    "     'num_epochs': new_list\n",
    "    })\n",
    "\n",
    "table.loc['Average'] = table.mean()\n",
    "# dfi.export(table, 'table.png')\n",
    "table"
   ]
  },
  {
   "cell_type": "code",
   "execution_count": 18,
   "metadata": {},
   "outputs": [
    {
     "data": {
      "text/html": [
       "<div>\n",
       "<style scoped>\n",
       "    .dataframe tbody tr th:only-of-type {\n",
       "        vertical-align: middle;\n",
       "    }\n",
       "\n",
       "    .dataframe tbody tr th {\n",
       "        vertical-align: top;\n",
       "    }\n",
       "\n",
       "    .dataframe thead th {\n",
       "        text-align: right;\n",
       "    }\n",
       "</style>\n",
       "<table border=\"1\" class=\"dataframe\">\n",
       "  <thead>\n",
       "    <tr style=\"text-align: right;\">\n",
       "      <th></th>\n",
       "      <th>handicapped-infants</th>\n",
       "      <th>water-project-cost-sharing</th>\n",
       "      <th>adoption-of-the-budget-resolution</th>\n",
       "      <th>physician-fee-freeze</th>\n",
       "      <th>el-salvador-aid</th>\n",
       "      <th>religious-groups-in-schools</th>\n",
       "      <th>anti-satellite-test-ban</th>\n",
       "      <th>aid-to-nicaraguan-contras</th>\n",
       "      <th>mx-missile</th>\n",
       "      <th>immigration</th>\n",
       "      <th>synfuels-corporation-cutback</th>\n",
       "      <th>education-spending</th>\n",
       "      <th>superfund-right-to-sue</th>\n",
       "      <th>crime</th>\n",
       "      <th>duty-free-exports</th>\n",
       "      <th>export-administration-act-south-africa</th>\n",
       "      <th>Class</th>\n",
       "    </tr>\n",
       "  </thead>\n",
       "  <tbody>\n",
       "    <tr>\n",
       "      <th>0</th>\n",
       "      <td>-0.1</td>\n",
       "      <td>0.4</td>\n",
       "      <td>0.7</td>\n",
       "      <td>-1.6</td>\n",
       "      <td>-0.4</td>\n",
       "      <td>2.775558e-17</td>\n",
       "      <td>-0.6</td>\n",
       "      <td>-0.4</td>\n",
       "      <td>0.7</td>\n",
       "      <td>-0.5</td>\n",
       "      <td>0.5</td>\n",
       "      <td>-0.2</td>\n",
       "      <td>-0.1</td>\n",
       "      <td>-0.1</td>\n",
       "      <td>0.5</td>\n",
       "      <td>-0.1</td>\n",
       "      <td>0.9</td>\n",
       "    </tr>\n",
       "  </tbody>\n",
       "</table>\n",
       "</div>"
      ],
      "text/plain": [
       "   handicapped-infants  water-project-cost-sharing  \\\n",
       "0                 -0.1                         0.4   \n",
       "\n",
       "   adoption-of-the-budget-resolution  physician-fee-freeze  el-salvador-aid  \\\n",
       "0                                0.7                  -1.6             -0.4   \n",
       "\n",
       "   religious-groups-in-schools  anti-satellite-test-ban  \\\n",
       "0                 2.775558e-17                     -0.6   \n",
       "\n",
       "   aid-to-nicaraguan-contras  mx-missile  immigration  \\\n",
       "0                       -0.4         0.7         -0.5   \n",
       "\n",
       "   synfuels-corporation-cutback  education-spending  superfund-right-to-sue  \\\n",
       "0                           0.5                -0.2                    -0.1   \n",
       "\n",
       "   crime  duty-free-exports  export-administration-act-south-africa  Class  \n",
       "0   -0.1                0.5                                    -0.1    0.9  "
      ]
     },
     "execution_count": 18,
     "metadata": {},
     "output_type": "execute_result"
    }
   ],
   "source": [
    "master_vote_percept = PerceptronClassifier()\n",
    "master_vote_percept.fit(vote_x, vote_y)\n",
    "weights = master_vote_percept.get_weights()\n",
    "\n",
    "weights = np.reshape(weights,(1,len(weights)))\n",
    "weightsDF = pd.DataFrame(weights, columns = list(vote.columns))\n",
    "weightsDF"
   ]
  },
  {
   "cell_type": "markdown",
   "metadata": {
    "id": "g3F0Qp-BVi1R"
   },
   "source": [
    "Whether an individual was in favor of the adoption of the budget resolution is the biggest predictor on whether that person votes democratic or republican. Synsfuels coroporation "
   ]
  },
  {
   "cell_type": "code",
   "execution_count": 19,
   "metadata": {},
   "outputs": [],
   "source": [
    "train_acc_list = table.train_acc.tolist()\n",
    "misclass = [1-x for x in train_acc_list]"
   ]
  },
  {
   "cell_type": "code",
   "execution_count": 20,
   "metadata": {
    "id": "2_ZRPWWVVeFM"
   },
   "outputs": [
    {
     "name": "stdout",
     "output_type": "stream",
     "text": [
      "[0.0670807453416149, 0.06149068322981377, 0.05465838509316767, 0.05357142857142849, 0.06832298136645976, 0.05797101449275355, 0.06211180124223603, 0.029503105590062084, 0.03881987577639756, 0.052795031055900665, 0.05590062111801242, 0.04347826086956519, 0.05380866114561755]\n"
     ]
    }
   ],
   "source": [
    "print(misclass)\n",
    "def plot_misclassification(avg_misclassification_rate):\n",
    "    plt.plot(np.arange(len(avg_misclassification_rate)), avg_misclassification_rate)\n",
    "    plt.title(\"Figure 4.2: Average Misclassification Rate vs. Epoch\")\n",
    "    plt.xlabel(\"Epoch\")\n",
    "    plt.ylabel(\"Misclassification Rate\")\n",
    "    # plt.savefig('misclass_epoch.jpg')\n",
    "    plt.show()"
   ]
  },
  {
   "cell_type": "code",
   "execution_count": 21,
   "metadata": {},
   "outputs": [
    {
     "data": {
      "image/png": "[encoded data removed]",
      "text/plain": [
       "<Figure size 432x288 with 1 Axes>"
      ]
     },
     "metadata": {
      "needs_background": "light"
     },
     "output_type": "display_data"
    }
   ],
   "source": [
    "plot_misclassification(misclass)"
   ]
  },
  {
   "cell_type": "code",
   "execution_count": 22,
   "metadata": {
    "id": "OFQv70W2VyqJ"
   },
   "outputs": [
    {
     "data": {
      "text/plain": [
       "0.9609544468546638"
      ]
     },
     "execution_count": 22,
     "metadata": {},
     "output_type": "execute_result"
    }
   ],
   "source": [
    "perceptron = sklearn.linear_model.Perceptron()\n",
    "\n",
    "perceptron.fit(vote_x, vote_y)\n",
    "perceptron.score(vote_x, vote_y)"
   ]
  },
  {
   "cell_type": "markdown",
   "metadata": {},
   "source": [
    "The sklearn model and my model performed similarly. The sklearn was reaching 96% accuracy and my model was getting upwards of 97% accuracy but averaged around 95%."
   ]
  },
  {
   "cell_type": "code",
   "execution_count": 30,
   "metadata": {},
   "outputs": [
    {
     "data": {
      "text/plain": [
       "1.0"
      ]
     },
     "execution_count": 30,
     "metadata": {},
     "output_type": "execute_result"
    }
   ],
   "source": [
    "dumbed_down_iris = pd.DataFrame(arff.loadarff('datasets/iris.arff')[0])\n",
    "dumbed_down_iris\n",
    "\n",
    "dumbed_down_iris['class'] = dumbed_down_iris['class'].str.decode('utf-8')\n",
    "dumbed_down_iris['class'] = np.where(dumbed_down_iris['class'] == 'Iris-setosa', 1, 0)\n",
    "\n",
    "dd_iris_x = dumbed_down_iris.iloc[:,:-1]\n",
    "dd_iris_x['bias'] = np.ones(len(dd_iris_x))\n",
    "\n",
    "dd_iris_y = dumbed_down_iris.iloc[:,-1]\n",
    "\n",
    "dd_iris_x, dd_iris_y = np.array(dd_iris_x), np.array(dd_iris_y)\n",
    "\n",
    "# Train on your dataset\n",
    "dumbed_down_iris_percept = sklearn.linear_model.Perceptron(max_iter = 100)\n",
    "\n",
    "dumbed_down_iris_percept.fit(dd_iris_x, dd_iris_y)\n",
    "dumbed_down_iris_percept.score(dd_iris_x, dd_iris_y)"
   ]
  },
  {
   "cell_type": "markdown",
   "metadata": {},
   "source": [
    "Well, the data that I passed into the sklearn perceptron was extraoridarily easily to separate. I passed in the Iris dataset, but only used the iris-setosa and the iris-versicolor which are linearly separable."
   ]
  }
 ],
 "metadata": {
  "colab": {
   "collapsed_sections": [],
   "name": "lab 1 - perceptron",
   "provenance": []
  },
  "kernelspec": {
   "display_name": "Python 3.10.5 ('base')",
   "language": "python",
   "name": "python3"
  },
  "language_info": {
   "codemirror_mode": {
    "name": "ipython",
    "version": 3
   },
   "file_extension": ".py",
   "mimetype": "text/x-python",
   "name": "python",
   "nbconvert_exporter": "python",
   "pygments_lexer": "ipython3",
   "version": "3.10.5"
  },
  "vscode": {
   "interpreter": {
    "hash": "c6e4e9f98eb68ad3b7c296f83d20e6de614cb42e90992a65aa266555a3137d0d"
   }
  }
 },
 "nbformat": 4,
 "nbformat_minor": 4
}
